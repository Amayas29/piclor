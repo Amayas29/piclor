{
 "cells": [
  {
   "cell_type": "markdown",
   "id": "bc5fb69f",
   "metadata": {},
   "source": [
    "### Importation des bibliotheques"
   ]
  },
  {
   "cell_type": "code",
   "execution_count": 54,
   "id": "de01c912",
   "metadata": {},
   "outputs": [],
   "source": [
    "import numpy as np\n",
    "import matplotlib.pyplot as plt\n",
    "import seaborn as sns\n",
    "from PIL import Image\n",
    "import matplotlib.image as mpimg\n",
    "from sklearn.cluster import KMeans"
   ]
  },
  {
   "cell_type": "markdown",
   "id": "dcbeb6d4",
   "metadata": {},
   "source": [
    "### Fonctions necessaires"
   ]
  },
  {
   "cell_type": "code",
   "execution_count": 44,
   "id": "8efb2f5e",
   "metadata": {},
   "outputs": [],
   "source": [
    "def norma(colors):\n",
    "    colors_bis = []\n",
    "    for color in colors:\n",
    "        cc = []\n",
    "        for v in color:\n",
    "            cc.append(v/255)\n",
    "        colors_bis.append(cc)\n",
    "    return colors_bis\n",
    "\n",
    "\n",
    "def showPoints(pixels , axis1,axis2):\n",
    "    if(axis1 < 0 or axis1 > 2 ) and (axis2 < 0 or axis2 > 2):\n",
    "        return\n",
    "    plt.scatter(pixels[:,axis1],pixels[:,axis2])\n",
    "    plt.show()\n",
    "    \n",
    "    \n",
    "def Resize(image,new_width,new_height):\n",
    "    \n",
    "    width,height = image.size\n",
    "    \n",
    "    resized_image = Image.new(image.mode, (new_width, new_height), 'white')\n",
    "\n",
    "    # un facteur < 1 --> retricement\n",
    "    # un facteur > 1 --> etirement\n",
    "    facteur_x = new_width/width\n",
    "    facteur_y = new_height/height\n",
    "\n",
    "    for y in range(new_height):\n",
    "        for x in range(new_width):\n",
    "            newX = int(np.round(x/facteur_x))\n",
    "            newY = int(np.round(y/facteur_y))\n",
    "            pixel = image.getpixel((newX,newY))\n",
    "            resized_image.putpixel((x, y),  pixel)\n",
    "            \n",
    "    return resized_image\n",
    "\n",
    "\n",
    "def PickleColorsFromImage(image,nbColors):\n",
    "    image = Image.open(image)\n",
    "    if(image.size[0] > 500 or image.size[1] > 500):\n",
    "        image = Resize(image,500,500)\n",
    "    pixels = np.array(image.getdata())\n",
    "    kmeans = KMeans(n_clusters=nbColors).fit(pixels)\n",
    "    return pixels,kmeans.cluster_centers_  \n"
   ]
  },
  {
   "cell_type": "markdown",
   "id": "d8a46d11",
   "metadata": {},
   "source": [
    "### Processus"
   ]
  },
  {
   "cell_type": "code",
   "execution_count": 25,
   "id": "2163596f",
   "metadata": {},
   "outputs": [],
   "source": [
    "IMG = \"data/img4.jpg\""
   ]
  },
  {
   "cell_type": "code",
   "execution_count": 53,
   "id": "497a458b",
   "metadata": {},
   "outputs": [
    {
     "data": {
      "text/plain": [
       "<matplotlib.image.AxesImage at 0x1420010f9a0>"
      ]
     },
     "execution_count": 53,
     "metadata": {},
     "output_type": "execute_result"
    },
    {
     "data": {
      "image/png": "[encoded data removed]",
      "text/plain": [
       "<Figure size 432x288 with 1 Axes>"
      ]
     },
     "metadata": {
      "needs_background": "light"
     },
     "output_type": "display_data"
    }
   ],
   "source": [
    "img = mpimg.imread(IMG)\n",
    "plt.imshow(img)"
   ]
  },
  {
   "cell_type": "markdown",
   "id": "f21e4518",
   "metadata": {},
   "source": []
  },
  {
   "cell_type": "code",
   "execution_count": 45,
   "id": "936cfa29",
   "metadata": {},
   "outputs": [],
   "source": [
    "pixels , colors = PickleColorsFromImage(IMG,5)"
   ]
  },
  {
   "cell_type": "markdown",
   "id": "a093d4ab",
   "metadata": {},
   "source": [
    "Affichage du nuage de points selon deux axes choisis en parametre"
   ]
  },
  {
   "cell_type": "code",
   "execution_count": 49,
   "id": "479ee888",
   "metadata": {},
   "outputs": [
    {
     "data": {
      "image/png": "[encoded data removed]",
      "text/plain": [
       "<Figure size 432x288 with 1 Axes>"
      ]
     },
     "metadata": {
      "needs_background": "light"
     },
     "output_type": "display_data"
    }
   ],
   "source": [
    "showPoints(pixels,0,2)"
   ]
  },
  {
   "cell_type": "code",
   "execution_count": 47,
   "id": "451c12db",
   "metadata": {},
   "outputs": [
    {
     "data": {
      "text/plain": [
       "array([[169.86230789, 253.07016881, 241.77790375],\n",
       "       [251.96690307, 167.73128448,  77.26136065],\n",
       "       [132.2496142 , 138.19714506, 251.74305556],\n",
       "       [250.69256839, 146.17283951, 141.29823287],\n",
       "       [252.54295267, 227.56918724,  98.5468107 ]])"
      ]
     },
     "execution_count": 47,
     "metadata": {},
     "output_type": "execute_result"
    }
   ],
   "source": [
    "colors"
   ]
  },
  {
   "cell_type": "markdown",
   "id": "9f12f977",
   "metadata": {},
   "source": [
    "Affichage des couleurs generées par l'execution de l'algorithme "
   ]
  },
  {
   "cell_type": "code",
   "execution_count": 51,
   "id": "e2afb69c",
   "metadata": {},
   "outputs": [
    {
     "data": {
      "text/plain": [
       "([<matplotlib.patches.Wedge at 0x1420cb71ee0>,\n",
       "  <matplotlib.patches.Wedge at 0x14200080970>,\n",
       "  <matplotlib.patches.Wedge at 0x14200080f40>,\n",
       "  <matplotlib.patches.Wedge at 0x142000f2bb0>,\n",
       "  <matplotlib.patches.Wedge at 0x142000f2eb0>],\n",
       " [Text(0.8899186877588753, 0.6465637858537406, ''),\n",
       "  Text(-0.3399187231970732, 1.046162158377023, ''),\n",
       "  Text(-1.0999999999999988, -5.149471622296949e-08, ''),\n",
       "  Text(-0.33991862524830174, -1.0461621902025062, ''),\n",
       "  Text(0.8899187482945414, -0.6465637025335375, '')])"
      ]
     },
     "execution_count": 51,
     "metadata": {},
     "output_type": "execute_result"
    },
    {
     "data": {
      "image/png": "[encoded data removed]",
      "text/plain": [
       "<Figure size 432x288 with 1 Axes>"
      ]
     },
     "metadata": {},
     "output_type": "display_data"
    }
   ],
   "source": [
    "X = [10 for i in range(len(colors))]\n",
    "plt.pie(X,colors=norma(colors))"
   ]
  }
 ],
 "metadata": {
  "kernelspec": {
   "display_name": "Python 3",
   "language": "python",
   "name": "python3"
  },
  "language_info": {
   "codemirror_mode": {
    "name": "ipython",
    "version": 3
   },
   "file_extension": ".py",
   "mimetype": "text/x-python",
   "name": "python",
   "nbconvert_exporter": "python",
   "pygments_lexer": "ipython3",
   "version": "3.8.8"
  }
 },
 "nbformat": 4,
 "nbformat_minor": 5
}
